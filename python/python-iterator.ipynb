{
 "cells": [
  {
   "cell_type": "code",
   "execution_count": 4,
   "id": "e4e15358",
   "metadata": {},
   "outputs": [],
   "source": [
    "import os\n",
    "import sys"
   ]
  },
  {
   "cell_type": "code",
   "execution_count": 5,
   "id": "05f82a15",
   "metadata": {},
   "outputs": [
    {
     "name": "stdout",
     "output_type": "stream",
     "text": [
      "nt\n",
      "win32\n"
     ]
    }
   ],
   "source": [
    "print(os.name)\n",
    "print(sys.platform)"
   ]
  },
  {
   "cell_type": "markdown",
   "id": "22ae7bc2",
   "metadata": {},
   "source": [
    "## 何谓迭代器？\n",
    "\n",
    "什么是迭代器？它是一个带状态的对象，在你调用next()方法的时候返回容器中的下一个值，任何实现了__iter__和__next__()（python2中实现next()）方法的对象都是迭代器，__iter__返回迭代器自身，__next__返回容器中的下一个值，如果容器中没有更多元素了，则抛出StopIteration异常。可迭代对象实现了__iter__方法，该方法返回一个迭代器对象，本文主要介绍一下Python中迭代器(Iterator)。"
   ]
  },
  {
   "cell_type": "markdown",
   "id": "98238f89",
   "metadata": {},
   "source": [
    "## python iterator and iterable\n",
    "\n",
    "迭代器是一个包含数个值的对象。\n",
    "迭代器是可以迭代的对象，这意味着您可以遍历所有值。\n",
    "从技术上讲，在Python中，迭代器是实现迭代器协议的对象，该协议由方法__iter__()和__next__()组成。\n"
   ]
  },
  {
   "cell_type": "code",
   "execution_count": 2,
   "id": "8585f0b3",
   "metadata": {},
   "outputs": [
    {
     "name": "stdout",
     "output_type": "stream",
     "text": [
      "c\n",
      "python\n",
      "java\n"
     ]
    }
   ],
   "source": [
    "#例：迭代一个元组中元素：\n",
    "mytuple = (\"c\", \"python\", \"java\")\n",
    "\n",
    "for x in mytuple:\n",
    "    print(x)"
   ]
  },
  {
   "cell_type": "markdown",
   "id": "4df5ea1b",
   "metadata": {},
   "source": [
    "列表，元组，字典和集合都是可迭代的对象。 它们是可迭代的容器，可以从中获得迭代器。\n",
    "所有这些对象都有一个iter()方法，该方法用于创建迭代器。"
   ]
  },
  {
   "cell_type": "code",
   "execution_count": 6,
   "id": "f093cea1",
   "metadata": {},
   "outputs": [
    {
     "name": "stdout",
     "output_type": "stream",
     "text": [
      "c\n",
      "java\n",
      "python\n"
     ]
    },
    {
     "ename": "StopIteration",
     "evalue": "",
     "output_type": "error",
     "traceback": [
      "\u001b[1;31m---------------------------------------------------------------------------\u001b[0m",
      "\u001b[1;31mStopIteration\u001b[0m                             Traceback (most recent call last)",
      "Input \u001b[1;32mIn [6]\u001b[0m, in \u001b[0;36m<module>\u001b[1;34m\u001b[0m\n\u001b[0;32m      6\u001b[0m \u001b[38;5;28mprint\u001b[39m(\u001b[38;5;28mnext\u001b[39m(myit))\n\u001b[0;32m      7\u001b[0m \u001b[38;5;28mprint\u001b[39m(\u001b[38;5;28mnext\u001b[39m(myit))\n\u001b[1;32m----> 8\u001b[0m \u001b[38;5;28mprint\u001b[39m(\u001b[38;5;28;43mnext\u001b[39;49m\u001b[43m(\u001b[49m\u001b[43mmyit\u001b[49m\u001b[43m)\u001b[49m)\n",
      "\u001b[1;31mStopIteration\u001b[0m: "
     ]
    }
   ],
   "source": [
    "# 从元组返回一个迭代器，并输出每个值:\n",
    "mytuple = (\"c\", \"java\", \"python\")\n",
    "myit = iter(mytuple)\n",
    "\n",
    "print(next(myit))\n",
    "print(next(myit))\n",
    "print(next(myit))\n",
    "print(next(myit)) # 容器中没有更多元素了，抛出StopIteration异常"
   ]
  },
  {
   "cell_type": "markdown",
   "id": "eef14fe7",
   "metadata": {},
   "source": [
    "字符串也是可迭代对象，可以返回迭代器:"
   ]
  },
  {
   "cell_type": "code",
   "execution_count": 7,
   "id": "216f18dc",
   "metadata": {},
   "outputs": [
    {
     "name": "stdout",
     "output_type": "stream",
     "text": [
      "p\n",
      "y\n",
      "t\n",
      "h\n",
      "o\n",
      "n\n"
     ]
    }
   ],
   "source": [
    "# 字符串可以当作字符列表：\n",
    "mystr = \"python\"\n",
    "myit = iter(mystr)\n",
    "\n",
    "print(next(myit))\n",
    "print(next(myit))\n",
    "print(next(myit))\n",
    "print(next(myit))\n",
    "print(next(myit))\n",
    "print(next(myit))\n"
   ]
  },
  {
   "cell_type": "markdown",
   "id": "8489e9fb",
   "metadata": {},
   "source": [
    "## 遍历迭代器\n",
    "\n",
    "可以使用for循环来迭代可迭代对象。\n",
    "\n",
    "for循环实际上创建了一个迭代器对象，并为每个循环执行next()方法。"
   ]
  },
  {
   "cell_type": "code",
   "execution_count": 8,
   "id": "ed81cfb1",
   "metadata": {},
   "outputs": [
    {
     "name": "stdout",
     "output_type": "stream",
     "text": [
      "c\n",
      "java\n",
      "python\n"
     ]
    }
   ],
   "source": [
    "# 迭代一个元组的值：\n",
    "mytuple = (\"c\", \"java\", \"python\")\n",
    "\n",
    "for x in mytuple:\n",
    "    print(x)"
   ]
  },
  {
   "cell_type": "code",
   "execution_count": 9,
   "id": "f2ecf922",
   "metadata": {},
   "outputs": [
    {
     "name": "stdout",
     "output_type": "stream",
     "text": [
      "b\n",
      "a\n",
      "n\n",
      "a\n",
      "n\n",
      "a\n"
     ]
    }
   ],
   "source": [
    "# 迭代字符串的字符：\n",
    "mystr = \"banana\"\n",
    "\n",
    "for x in mystr:\n",
    "    print(x)\n"
   ]
  },
  {
   "cell_type": "markdown",
   "id": "1aaf30bb",
   "metadata": {},
   "source": [
    "## 定义一个迭代器\n",
    "\n",
    "要创建一个对象/类作为迭代器，必须实现__iter__()和__next__()方法。方法名与__init__()相似，都是前后各两个下划线。\n",
    "\n",
    "__iter__()方法的功能是进行一些初始化等，然后返回迭代器对象本身。\n",
    "\n",
    "__next__()方法的功能则是返回序列中的下一项。\n"
   ]
  },
  {
   "cell_type": "code",
   "execution_count": 11,
   "id": "cdd4c54a",
   "metadata": {},
   "outputs": [
    {
     "name": "stdout",
     "output_type": "stream",
     "text": [
      "1\n",
      "2\n",
      "3\n",
      "4\n",
      "5\n"
     ]
    }
   ],
   "source": [
    "# 例如：创建一个返回数字（从1开始）的迭代器，序列值按加一递增的方式生成（比如说，初始值为1时，则返回1,2,3,4,5等）：\n",
    "class MyNumbers:\n",
    "    def __iter__(self):\n",
    "        self.a = 1\n",
    "        return self\n",
    "\n",
    "    def __next__(self):\n",
    "        x = self.a\n",
    "        self.a += 1\n",
    "        return x\n",
    "\n",
    "myclass = MyNumbers()\n",
    "myiter = iter(myclass)\n",
    "\n",
    "print(next(myiter))\n",
    "print(next(myiter))\n",
    "print(next(myiter))\n",
    "print(next(myiter))\n",
    "print(next(myiter))\n"
   ]
  },
  {
   "cell_type": "markdown",
   "id": "c98a26b2",
   "metadata": {},
   "source": [
    "## StopIteration\n",
    "\n",
    "以上的例子可以永无休止地产生序列。\n",
    "\n",
    "为了防止迭代永远进行，我们可以使用StopIteration语句。\n",
    "\n",
    "比如说，在__next__()方法中，如果迭代执行了指定的次数，添加终止条件以引发错误。\n"
   ]
  },
  {
   "cell_type": "code",
   "execution_count": 13,
   "id": "e21de664",
   "metadata": {},
   "outputs": [
    {
     "name": "stdout",
     "output_type": "stream",
     "text": [
      "1\n",
      "2\n",
      "3\n",
      "4\n",
      "5\n",
      "6\n",
      "7\n",
      "8\n",
      "9\n",
      "10\n",
      "11\n",
      "12\n",
      "13\n",
      "14\n",
      "15\n",
      "16\n",
      "17\n",
      "18\n",
      "19\n",
      "20\n"
     ]
    }
   ],
   "source": [
    "# 例如：在20次迭代后停止：\n",
    "class MyNumbers:\n",
    "    def __iter__(self):\n",
    "        self.a = 1\n",
    "        return self\n",
    "\n",
    "    def __next__(self):\n",
    "        if self.a <= 20:\n",
    "            x = self.a\n",
    "            self.a += 1\n",
    "            return x\n",
    "        else:\n",
    "            raise StopIteration\n",
    "\n",
    "myclass = MyNumbers()\n",
    "myiter = iter(myclass)\n",
    "\n",
    "for x in myiter:\n",
    "    print(x)\n"
   ]
  },
  {
   "cell_type": "code",
   "execution_count": 15,
   "id": "cae1221b",
   "metadata": {},
   "outputs": [
    {
     "name": "stdout",
     "output_type": "stream",
     "text": [
      "1\n",
      "2\n",
      "3\n",
      "4\n",
      "5\n"
     ]
    }
   ],
   "source": [
    "# 首先获得Iterator对象:\n",
    "it = iter([1, 2, 3, 4, 5])\n",
    "# 循环:\n",
    "while True:\n",
    "    try:\n",
    "        # 获得下一个值:\n",
    "        print(next(it))\n",
    "    except StopIteration:\n",
    "        # 遇到StopIteration就退出循环\n",
    "        break\n"
   ]
  },
  {
   "cell_type": "code",
   "execution_count": null,
   "id": "ffaafb62",
   "metadata": {},
   "outputs": [],
   "source": []
  }
 ],
 "metadata": {
  "kernelspec": {
   "display_name": "Python 3 (ipykernel)",
   "language": "python",
   "name": "python3"
  },
  "language_info": {
   "codemirror_mode": {
    "name": "ipython",
    "version": 3
   },
   "file_extension": ".py",
   "mimetype": "text/x-python",
   "name": "python",
   "nbconvert_exporter": "python",
   "pygments_lexer": "ipython3",
   "version": "3.8.5"
  }
 },
 "nbformat": 4,
 "nbformat_minor": 5
}
