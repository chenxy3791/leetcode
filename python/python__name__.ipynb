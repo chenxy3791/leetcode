{
 "cells": [
  {
   "cell_type": "markdown",
   "id": "5885423c",
   "metadata": {},
   "source": [
    "# Python中\"if \\_\\_name\\_\\_ == '\\_\\_main\\_\\_':\"的作用和原理\n",
    "\n",
    "## 1.前言\n",
    "\n",
    "学过Java、C、C++的程序员应该都知道，每次开启一个程序，都必须写一个主函数作为程序的入口，也就是我们常说的main函数。如下所示， main()就是Java中的一个main函数。\n",
    "\n",
    "public class HelloWorld {\n",
    "    public static void main(String[] args) {\n",
    "        System.out.println(\"HelloWorld\");\n",
    "    }\n",
    "}\n",
    "\n",
    "与Java、C、C++等几种语言不同的是，Python是一种解释型脚本语言，在执行之前不同要将所有代码先编译成中间代码，Python程序运行时是从模块顶行开始，逐行进行翻译执行，所以，最顶层（没有被缩进）的代码都会被执行，所以Python中并不需要一个统一的main()作为程序的入口。在某种意义上讲，\"if \\_\\_name\\_\\_ == '\\_\\_main\\_\\_':\"也像是一个标志，象征着Java等语言中的程序主入口，告诉其他程序员，代码入口在此——这是“if \\_\\_name\\_\\_ == '\\_\\_main\\_\\_':”这条语句的意义之一。\n",
    "\n",
    "\n",
    "1. __name__的理解\n",
    "1.1 为什么使用__name__属性？\n",
    "1.2 __name__属性\n",
    "2. 模块导入\n",
    "3. `“__name__”与“__main__”`\n",
    "4. `if __name__ == '__main__':`的作用\n",
    "5. 又一例子\n"
   ]
  },
  {
   "cell_type": "markdown",
   "id": "4506ac1e",
   "metadata": {},
   "source": [
    "## 2.\t\\_\\_name\\_\\_的理解\n",
    "\n",
    "### 2.1 为什么使用\\_\\_name\\_\\_属性？\n",
    "\n",
    "Python解释器在导入模块时，会将模块中没有缩进的代码全部执行一遍（模块就是一个独立的Python文件）。开发人员通常会在模块下方增加一些测试代码，为了避免这些测试代码在模块被导入后执行，可以利用\\_\\_name\\_\\_属性。\n",
    "\n",
    "### 2.2 \\_\\_name\\_\\_属性\n",
    "\n",
    "\\_\\_name\\_\\_属性是Python的一个内置属性，记录了一个字符串。\n",
    "\n",
    "若是在当前文件，name 是\\_\\_main\\_\\_。\n",
    "在hello文件中打印本文件的\\_\\_name\\_\\_属性值，显示的是\\_\\_main\\_\\_\n"
   ]
  },
  {
   "cell_type": "code",
   "execution_count": 2,
   "id": "40c38655",
   "metadata": {},
   "outputs": [
    {
     "name": "stdout",
     "output_type": "stream",
     "text": [
      "__main__\n"
     ]
    }
   ],
   "source": [
    "print(__name__)"
   ]
  },
  {
   "cell_type": "markdown",
   "id": "754addb9",
   "metadata": {},
   "source": [
    "若是导入的文件，\\_\\_name\\_\\_是模块名。\n",
    "test文件导入hello模块，在test文件中打印出hello模块的\\_\\_name\\_\\_属性值，显示的是hello模块的模块名。"
   ]
  },
  {
   "cell_type": "code",
   "execution_count": 4,
   "id": "2666ddaf",
   "metadata": {},
   "outputs": [
    {
     "name": "stdout",
     "output_type": "stream",
     "text": [
      "torch\n"
     ]
    }
   ],
   "source": [
    "import torch\n",
    "\n",
    "print(torch.__name__)"
   ]
  },
  {
   "cell_type": "markdown",
   "id": "d1a0f705",
   "metadata": {},
   "source": [
    "因此\\_\\_name\\_\\_ == '\\_\\_main\\_\\_'就表示在当前文件中，可以在if \\_\\_name\\_\\_ == '\\_\\_main\\_\\_':条件下写入测试代码，如此可以避免测试代码在模块被导入后执行。"
   ]
  },
  {
   "cell_type": "markdown",
   "id": "b5f28e2d",
   "metadata": {},
   "source": [
    "## 3.模块导入\n",
    "我们知道，当我们把模块A中的代码在模块B中进行import A时，只要B模块代码运行到该import语句，模块A的代码会被执行。\n",
    "\n",
    "模块A：\n",
    "\n",
    "a = 100 \n",
    "\n",
    "print('你好，我是模块A……')\n",
    "\n",
    "print(a)\n",
    "\n",
    "模块B：\n",
    "\n",
    "from package01 import A\n",
    "\n",
    "b = 200\n",
    "\n",
    "print('你好，我是模块B……')\n",
    "\n",
    "print(b)\n",
    "\n",
    "运行模块B时，输出结果如下：\n",
    "\n",
    "你好，我是模块A……\n",
    "\n",
    "100\n",
    "\n",
    "你好，我是模块B……\n",
    "\n",
    "200\n",
    "\n",
    "如果在模块A中，我们有部分的代码不想在被导入到B时直接被运行，但在直接运行A时可直接运行，那该怎么做呢？那就可以用到“if __name__==’__main__:”这行代码了，我们对上面用到的A模块代码进行修改：\n",
    "\n",
    "A模块代码修改为：\n",
    "\n",
    "a = 100\n",
    "\n",
    "print('你好，我是模块A……')\n",
    "\n",
    "if \\_\\_name\\_\\_=='\\_\\_main\\_\\_':\n",
    "\n",
    "    print(a)\n",
    "    \n",
    "B模块不做修改，直接执行B模块，输出结果如下：\n",
    "\n",
    "你好，我是模块A……\n",
    "\n",
    "你好，我是模块B……\n",
    "\n",
    "200\n",
    "\n",
    "看到了吗，A模块中的a的值就没有再被输出了。所以，当你要导入某个模块，但又不想改模块的部分代码被直接执行，那就可以这一部分代码放在“if \\_\\_name\\_\\_=='\\_\\_main\\_\\_':”内部。\n"
   ]
  },
  {
   "cell_type": "code",
   "execution_count": null,
   "id": "5d389ddd",
   "metadata": {},
   "outputs": [],
   "source": []
  }
 ],
 "metadata": {
  "kernelspec": {
   "display_name": "Python 3 (ipykernel)",
   "language": "python",
   "name": "python3"
  },
  "language_info": {
   "codemirror_mode": {
    "name": "ipython",
    "version": 3
   },
   "file_extension": ".py",
   "mimetype": "text/x-python",
   "name": "python",
   "nbconvert_exporter": "python",
   "pygments_lexer": "ipython3",
   "version": "3.8.5"
  }
 },
 "nbformat": 4,
 "nbformat_minor": 5
}
