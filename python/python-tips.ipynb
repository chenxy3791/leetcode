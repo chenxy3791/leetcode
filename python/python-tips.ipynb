{
 "cells": [
  {
   "cell_type": "code",
   "execution_count": 15,
   "id": "e897a2cd",
   "metadata": {},
   "outputs": [
    {
     "data": {
      "text/plain": [
       "True"
      ]
     },
     "execution_count": 15,
     "metadata": {},
     "output_type": "execute_result"
    }
   ],
   "source": [
    "#1. 重复元素判定\n",
    "#以下方法可以检查给定列表是不是存在重复元素，它会使用 set() 函数来移除所有重复元素。\n",
    "def all_unique(lst):\n",
    "    return len(lst) == len(set(lst))\n",
    "\n",
    "\n",
    "x = [1,1,2,2,3,2,3,4,5,6]\n",
    "y = [1,2,3,4,5]\n",
    "all_unique(x) # False\n",
    "all_unique(y) # True"
   ]
  },
  {
   "cell_type": "code",
   "execution_count": 5,
   "id": "970995fc",
   "metadata": {},
   "outputs": [
    {
     "name": "stdout",
     "output_type": "stream",
     "text": [
      "<built-in method get of dict object at 0x000001DAE6150FC0>\n",
      "three\n"
     ]
    }
   ],
   "source": [
    "#2. 查询字典中value最大的key\n",
    "myDict = {'one': 24, 'two': 13, 'three': 54, 'four': 9}\n",
    "keyWithMaxValue = max(myDict, key=myDict.get)\n",
    "print(myDict.get)\n",
    "print(keyWithMaxValue)"
   ]
  },
  {
   "cell_type": "code",
   "execution_count": 9,
   "id": "cfe33c47",
   "metadata": {},
   "outputs": [
    {
     "name": "stdout",
     "output_type": "stream",
     "text": [
      "True\n",
      "Counter({'a': 1, 'b': 1, 'c': 1, 'd': 1, '3': 1})\n"
     ]
    }
   ],
   "source": [
    "#3. 字符元素组成判定\n",
    "#检查两个字符串的组成元素是不是一样的。\n",
    "from collections import Counter\n",
    "def anagram(first, second):\n",
    "    return Counter(first) == Counter(second)\n",
    "\n",
    "print(anagram(\"abcd3\", \"3acdb\")) # True\n",
    "print(Counter(\"abcd3\"))"
   ]
  },
  {
   "cell_type": "code",
   "execution_count": 10,
   "id": "b73947c8",
   "metadata": {},
   "outputs": [
    {
     "name": "stdout",
     "output_type": "stream",
     "text": [
      "I   a m   a   p y t h o n   f a n \n",
      "\n",
      "I   a m   a   p y t h o n   f a n \n",
      "\n",
      "0:I\n",
      "1: \n",
      "2:a\n",
      "3:m\n",
      "4: \n",
      "5:a\n",
      "6: \n",
      "7:p\n",
      "8:y\n",
      "9:t\n",
      "10:h\n",
      "11:o\n",
      "12:n\n",
      "13: \n",
      "14:f\n",
      "15:a\n",
      "16:n\n",
      "\n",
      "\n",
      "-4:I\n",
      "-3: \n",
      "-2:a\n",
      "-1:m\n",
      "0: \n",
      "1:a\n",
      "2: \n",
      "3:p\n",
      "4:y\n",
      "5:t\n",
      "6:h\n",
      "7:o\n",
      "8:n\n",
      "9: \n",
      "10:f\n",
      "11:a\n",
      "12:n\n",
      "\n",
      "\n",
      "[(0, 'I'), (1, ' '), (2, 'a'), (3, 'm'), (4, ' '), (5, 'a'), (6, ' '), (7, 'p'), (8, 'y'), (9, 't'), (10, 'h'), (11, 'o'), (12, 'n'), (13, ' '), (14, 'f'), (15, 'a'), (16, 'n')]\n"
     ]
    }
   ],
   "source": [
    "#4. enumerate\n",
    "a = 'I am a python fan'\n",
    "for k in range(len(a)):\n",
    "    print(a[k],end=' ')\n",
    "print('\\n')    \n",
    "\n",
    "for c in a:\n",
    "    print(c,end=' ')\n",
    "print('\\n')    \n",
    "    \n",
    "for k,c in enumerate(a):\n",
    "    print('{0}:{1}'.format(k,c))\n",
    "print('\\n')   \n",
    "\n",
    "for k,c in enumerate(a, start=-4):\n",
    "    print('{0}:{1}'.format(k,c))\n",
    "print('\\n')   \n",
    "    \n",
    "enumobj = enumerate(a);\n",
    "print(list(enumobj))"
   ]
  },
  {
   "cell_type": "code",
   "execution_count": 12,
   "id": "1c269e66",
   "metadata": {},
   "outputs": [
    {
     "name": "stdout",
     "output_type": "stream",
     "text": [
      "<itertools.product object at 0x000001DAE46AB2C0>\n",
      "list(myIterator) =  [('A', 'A'), ('A', 'B'), ('B', 'A'), ('B', 'B')]\n",
      "List Comprehension:  []\n",
      "[*myIterator] =  []\n",
      "Iterator unpacking operator:  [0, 1, 2, 3, 4, 5, 6, 7, 8, 9]\n",
      "List Comprehension:  []\n",
      "Type constructor:  []\n"
     ]
    }
   ],
   "source": [
    "#5. iterator, itertools\n",
    "import itertools as it\n",
    "\n",
    "# Convert iterator to list\n",
    "myIterator = it.product('AB', repeat=2)\n",
    "print(myIterator)\n",
    "print('list(myIterator) = ',list(myIterator))\n",
    "print('List Comprehension: ',[i for i in myIterator])\n",
    "print('[*myIterator] = ',[*myIterator])\n",
    "\n",
    "myIterator = iter(range(10))\n",
    "print('Iterator unpacking operator: ',[*myIterator])\n",
    "print('List Comprehension: ',[i for i in myIterator])\n",
    "print('Type constructor: ',list(myIterator))"
   ]
  },
  {
   "cell_type": "code",
   "execution_count": 13,
   "id": "5b54e155",
   "metadata": {},
   "outputs": [
    {
     "name": "stdout",
     "output_type": "stream",
     "text": [
      "28\n"
     ]
    }
   ],
   "source": [
    "#6. 内存占用\n",
    "#下面的代码块可以检查变量 variable 所占用的内存。\n",
    "\n",
    "import sys \n",
    "variable = 30 \n",
    "print(sys.getsizeof(variable)) # 24"
   ]
  },
  {
   "cell_type": "code",
   "execution_count": 14,
   "id": "67ab3a98",
   "metadata": {},
   "outputs": [
    {
     "name": "stdout",
     "output_type": "stream",
     "text": [
      "Programming Is Awesome\n"
     ]
    }
   ],
   "source": [
    "#7. 大写第一个字母\n",
    "#以下代码块会使用 title() 方法，从而大写字符串中每一个单词的首字母。\n",
    "\n",
    "s = \"programming is awesome\"\n",
    "\n",
    "print(s.title())\n",
    "# Programming Is Awesome"
   ]
  },
  {
   "cell_type": "code",
   "execution_count": 18,
   "id": "bccc9682",
   "metadata": {},
   "outputs": [
    {
     "name": "stdout",
     "output_type": "stream",
     "text": [
      "Inside myFunction1():  hello python - I changed you inside myFunction1\n",
      "Inside myFunction2():  hello python - This is inside myFunction2\n",
      "Outside myFunction1():  hello python - I changed you inside myFunction1\n"
     ]
    }
   ],
   "source": [
    "#8. Global variable\n",
    "myVar = 'hello python - global, in python_global_1 module'\n",
    "def myFunction1():\n",
    "    global myVar\n",
    "    myVar = 'hello python - I changed you inside myFunction1'\n",
    "    print('Inside myFunction1(): ',myVar)\n",
    "    \n",
    "def myFunction2():    \n",
    "    myVar = 'hello python - This is inside myFunction2'\n",
    "    print('Inside myFunction2(): ',myVar)\n",
    "myFunction1()\n",
    "myFunction2()\n",
    "print('Outside myFunction1(): ',myVar)"
   ]
  },
  {
   "cell_type": "code",
   "execution_count": 19,
   "id": "62d93357",
   "metadata": {},
   "outputs": [
    {
     "name": "stdout",
     "output_type": "stream",
     "text": [
      "请输入一组数字：\n",
      "34岁,67年,55岁,33岁,12日,98年\n",
      "['34岁', '67年', '55岁', '33岁', '12日', '98年']\n",
      "['34', '67', '55', '33', '12', '98']\n",
      "('34', '67', '55', '33', '12', '98')\n"
     ]
    }
   ],
   "source": [
    "#9. Regular expression\n",
    "# Input example: 34岁,67年,55岁,33岁,12日,98年\n",
    "import re\n",
    "print('请输入一组数字：')\n",
    "values=input()\n",
    "l=values.split(\",\")\n",
    "print(l)\n",
    "k=re.findall(r'[0-9]+',values)\n",
    "t=tuple(k)\n",
    "print (k)\n",
    "print (t)"
   ]
  },
  {
   "cell_type": "code",
   "execution_count": 20,
   "id": "ac54a385",
   "metadata": {},
   "outputs": [
    {
     "data": {
      "text/plain": [
       "[[1, 2], [3, 4], [5]]"
      ]
     },
     "execution_count": 20,
     "metadata": {},
     "output_type": "execute_result"
    }
   ],
   "source": [
    "#10. 分块\n",
    "#给定具体的大小，定义一个函数以按照这个大小切割列表。\n",
    "from math import ceil\n",
    "\n",
    "def chunk(lst, size):\n",
    "    return list(\n",
    "        map(lambda x: lst[x * size:x * size + size],\n",
    "            list(range(0, ceil(len(lst) / size)))))\n",
    "\n",
    "chunk([1,2,3,4,5],2)\n",
    "# [[1,2],[3,4],5]\n"
   ]
  },
  {
   "cell_type": "code",
   "execution_count": 21,
   "id": "d5260de5",
   "metadata": {},
   "outputs": [
    {
     "name": "stdout",
     "output_type": "stream",
     "text": [
      "Programming Is Awesome\n"
     ]
    }
   ],
   "source": [
    "#11. 大写第一个字母\n",
    "#以下代码块会使用 title() 方法，从而大写字符串中每一个单词的首字母。\n",
    "\n",
    "s = \"programming is awesome\"\n",
    "\n",
    "print(s.title())\n",
    "# Programming Is Awesome"
   ]
  },
  {
   "cell_type": "code",
   "execution_count": 22,
   "id": "16ed2caf",
   "metadata": {},
   "outputs": [
    {
     "data": {
      "text/plain": [
       "[1, 2, 3, 'a', 's', 34]"
      ]
     },
     "execution_count": 22,
     "metadata": {},
     "output_type": "execute_result"
    }
   ],
   "source": [
    "#12. 压缩\n",
    "#这个方法可以将布尔型的值去掉，例如（False，None，0，“”），它使用 filter() 函数。\n",
    "\n",
    "def compact(lst):\n",
    "    return list(filter(bool, lst))\n",
    "\n",
    "compact([0, 1, False, 2, '', 3, 'a', 's', 34])\n",
    "# [ 1, 2, 3, 'a', 's', 34 ]"
   ]
  },
  {
   "cell_type": "code",
   "execution_count": 24,
   "id": "5042d0e7",
   "metadata": {},
   "outputs": [
    {
     "name": "stdout",
     "output_type": "stream",
     "text": [
      "[('a', 'c', 'e'), ('b', 'd', 'f')]\n"
     ]
    }
   ],
   "source": [
    "#13. 解包\n",
    "#如下代码段可以将打包好的成对列表解开成两组不同的元组。\n",
    "\n",
    "array = [['a', 'b'], ['c', 'd'], ['e', 'f']]\n",
    "transposed = zip(*array)\n",
    "print(list(transposed))\n",
    "# [('a', 'c', 'e'), ('b', 'd', 'f')]"
   ]
  },
  {
   "cell_type": "code",
   "execution_count": 26,
   "id": "d4890e3e",
   "metadata": {},
   "outputs": [
    {
     "name": "stdout",
     "output_type": "stream",
     "text": [
      "True\n",
      "False\n",
      "True\n",
      "0 0 0 0\n"
     ]
    }
   ],
   "source": [
    "#14. 链式处理\n",
    "#我们可以在一行代码中使用不同的运算符对比多个不同的元素。同一样可以用这种方式对多个变量赋值\n",
    "\n",
    "a = 3; b = 3; c = 3\n",
    "print( 2 < a < 8) # True\n",
    "print(1 == a < 2) # False\n",
    "print(a==b==c)\n",
    "a = b = c = d = 0\n",
    "print(a,b,c,d)"
   ]
  },
  {
   "cell_type": "code",
   "execution_count": 28,
   "id": "70f48265",
   "metadata": {},
   "outputs": [
    {
     "name": "stdout",
     "output_type": "stream",
     "text": [
      "My hobbies are: basketball; football; swimming\n"
     ]
    }
   ],
   "source": [
    "#15. join with specified symbol\n",
    "#下面的代码可以将列表连接成单个字符串，且每一个元素间的分隔方式设置为了逗号。\n",
    "\n",
    "hobbies = [\"basketball\", \"football\", \"swimming\"]\n",
    "\n",
    "print(\"My hobbies are: \" + \"; \".join(hobbies))\n",
    "# My hobbies are: basketball, football, swimming"
   ]
  },
  {
   "cell_type": "code",
   "execution_count": 31,
   "id": "656ceef2",
   "metadata": {},
   "outputs": [
    {
     "name": "stdout",
     "output_type": "stream",
     "text": [
      "3\n",
      "0\n"
     ]
    }
   ],
   "source": [
    "#16. 元音统计\n",
    "#以下方法将统计字符串中的元音 (‘a’, ‘e’, ‘i’, ‘o’, ‘u’) 的个数，它是通过正则表达式做的。\n",
    "\n",
    "import re\n",
    "def count_vowels(str):\n",
    "    return (len(re.findall(r'[aeiou]', str, re.IGNORECASE)))\n",
    "\n",
    "print(count_vowels('foobar')) # 3\n",
    "print(count_vowels('gym')) # 0"
   ]
  },
  {
   "cell_type": "code",
   "execution_count": 34,
   "id": "20f8374f",
   "metadata": {},
   "outputs": [
    {
     "data": {
      "text/plain": [
       "'fooBar'"
      ]
     },
     "execution_count": 34,
     "metadata": {},
     "output_type": "execute_result"
    }
   ],
   "source": [
    "#17. 首字母小写\n",
    "#如下方法将令给定字符串的第一个字符统一为小写。\n",
    "\n",
    "def decapitalize(string):\n",
    "    return string[0].lower() + string[1:]\n",
    "\n",
    "decapitalize('FooBar') # 'fooBar'"
   ]
  },
  {
   "cell_type": "code",
   "execution_count": 35,
   "id": "19e488b9",
   "metadata": {},
   "outputs": [
    {
     "data": {
      "text/plain": [
       "[1, 2, 3, 4, 5]"
      ]
     },
     "execution_count": 35,
     "metadata": {},
     "output_type": "execute_result"
    }
   ],
   "source": [
    "#18. 展开列表\n",
    "#该方法将通过递归的方式将列表的嵌套展开为单个列表。\n",
    "\n",
    "def spread(arg):\n",
    "    ret = []\n",
    "    for i in arg:\n",
    "        if isinstance(i, list):\n",
    "            ret.extend(i)\n",
    "        else:\n",
    "            ret.append(i)\n",
    "    return ret\n",
    "\n",
    "def deep_flatten(lst):\n",
    "    result = []\n",
    "    result.extend(\n",
    "        spread(list(map(lambda x: deep_flatten(x) if type(x) == list else x, lst))))\n",
    "    return result\n",
    "\n",
    "\n",
    "deep_flatten([1, [2], [[3], 4], 5]) # [1,2,3,4,5]"
   ]
  },
  {
   "cell_type": "code",
   "execution_count": 36,
   "id": "d8b19c81",
   "metadata": {},
   "outputs": [
    {
     "data": {
      "text/plain": [
       "[3]"
      ]
     },
     "execution_count": 36,
     "metadata": {},
     "output_type": "execute_result"
    }
   ],
   "source": [
    "#19. 列表的差\n",
    "#该方法将返回第一个列表的元素，其不在第二个列表内。如果同时要反馈第二个列表独有的元素，还需要加一句 set_b.difference(set_a)。\n",
    "\n",
    "def difference(a, b):\n",
    "    set_a = set(a)\n",
    "    set_b = set(b)\n",
    "    comparison = set_a.difference(set_b)\n",
    "    return list(comparison)\n",
    "\n",
    "\n",
    "difference([1,2,3], [1,2,4]) # [3]"
   ]
  },
  {
   "cell_type": "code",
   "execution_count": 37,
   "id": "37cbdbed",
   "metadata": {},
   "outputs": [
    {
     "data": {
      "text/plain": [
       "[{'x': 2}]"
      ]
     },
     "execution_count": 37,
     "metadata": {},
     "output_type": "execute_result"
    }
   ],
   "source": [
    "#20. 通过函数取差\n",
    "#如下方法首先会应用一个给定的函数，然后再返回应用函数后结果有差别的列表元素。\n",
    "\n",
    "def difference_by(a, b, fn):\n",
    "    b = set(map(fn, b))\n",
    "    return [item for item in a if fn(item) not in b]\n",
    "\n",
    "\n",
    "from math import floor\n",
    "difference_by([2.1, 1.2], [2.3, 3.4],floor) # [1.2]\n",
    "difference_by([{ 'x': 2 }, { 'x': 1 }], [{ 'x': 1 }], lambda v : v['x'])\n",
    "# [ { x: 2 } ]"
   ]
  },
  {
   "cell_type": "code",
   "execution_count": 38,
   "id": "865a9c86",
   "metadata": {},
   "outputs": [
    {
     "name": "stdout",
     "output_type": "stream",
     "text": [
      "9\n"
     ]
    }
   ],
   "source": [
    "#21. 链式函数调用\n",
    "#你可以在一行代码内调用多个函数。\n",
    "\n",
    "def add(a, b):\n",
    "    return a + b\n",
    "\n",
    "def subtract(a, b):\n",
    "    return a - b\n",
    "\n",
    "a, b = 4, 5\n",
    "print((subtract if a > b else add)(a, b)) # 9 "
   ]
  },
  {
   "cell_type": "code",
   "execution_count": 39,
   "id": "8ac460b9",
   "metadata": {},
   "outputs": [
    {
     "data": {
      "text/plain": [
       "False"
      ]
     },
     "execution_count": 39,
     "metadata": {},
     "output_type": "execute_result"
    }
   ],
   "source": [
    "#22. 检查重复项\n",
    "#如下代码将检查两个列表是不是有重复项。\n",
    "\n",
    "def has_duplicates(lst):\n",
    "    return len(lst) != len(set(lst))\n",
    "\n",
    "\n",
    "x = [1,2,3,4,5,5]\n",
    "y = [1,2,3,4,5]\n",
    "has_duplicates(x) # True\n",
    "has_duplicates(y) # False"
   ]
  },
  {
   "cell_type": "code",
   "execution_count": 42,
   "id": "e59a3317",
   "metadata": {},
   "outputs": [
    {
     "name": "stdout",
     "output_type": "stream",
     "text": [
      "{'x': 1, 'y': 3, 'z': 4}\n",
      "{'x': 1, 'y': 3, 'z': 4}\n"
     ]
    }
   ],
   "source": [
    "#23. 合并两个字典\n",
    "#下面的方法将用于合并两个字典。\n",
    "\n",
    "def merge_two_dicts(a, b):\n",
    "    c = a.copy()   # make a copy of a \n",
    "    c.update(b)    # modify keys and values of a with the ones from b\n",
    "    return c\n",
    "\n",
    "\n",
    "a = { 'x': 1, 'y': 2}\n",
    "b = { 'y': 3, 'z': 4}\n",
    "print(merge_two_dicts(a, b))\n",
    "# {'y': 3, 'x': 1, 'z': 4}\n",
    "\n",
    "#在 Python 3.5 或更高版本中，我们也可以用以下方式合并字典：\n",
    "\n",
    "def merge_dictionaries(a, b):\n",
    "   return {**a, **b}\n",
    "\n",
    "a = { 'x': 1, 'y': 2}\n",
    "b = { 'y': 3, 'z': 4}\n",
    "print(merge_dictionaries(a, b))\n",
    "# {'y': 3, 'x': 1, 'z': 4}"
   ]
  },
  {
   "cell_type": "code",
   "execution_count": 43,
   "id": "2bd1189d",
   "metadata": {},
   "outputs": [
    {
     "name": "stdout",
     "output_type": "stream",
     "text": [
      "{'a': 2, 'b': 3, 'c': 4}\n"
     ]
    }
   ],
   "source": [
    "#24. 将两个列表转化为字典\n",
    "#如下方法将会把两个列表转化为单个字典。\n",
    "\n",
    "def to_dictionary(keys, values):\n",
    "    return dict(zip(keys, values))\n",
    "\n",
    "\n",
    "keys = [\"a\", \"b\", \"c\"]    \n",
    "values = [2, 3, 4]\n",
    "print(to_dictionary(keys, values))\n",
    "# {'a': 2, 'c': 4, 'b': 3}\n"
   ]
  },
  {
   "cell_type": "code",
   "execution_count": 44,
   "id": "ea63773d",
   "metadata": {},
   "outputs": [
    {
     "name": "stdout",
     "output_type": "stream",
     "text": [
      "Value a Index  0\n",
      "Value b Index  1\n",
      "Value c Index  2\n",
      "Value d Index  3\n"
     ]
    }
   ],
   "source": [
    "#25. 使用枚举\n",
    "#我们常用 For 循环来遍历某个列表，同样我们也能枚举列表的索引与值。\n",
    "\n",
    "list = [\"a\", \"b\", \"c\", \"d\"]\n",
    "for index, element in enumerate(list): \n",
    "    print(\"Value\", element, \"Index \", index, )\n",
    "\n",
    "# ('Value', 'a', 'Index ', 0)\n",
    "# ('Value', 'b', 'Index ', 1)\n",
    "#('Value', 'c', 'Index ', 2)\n",
    "# ('Value', 'd', 'Index ', 3)    "
   ]
  },
  {
   "cell_type": "code",
   "execution_count": 46,
   "id": "2cfba4a8",
   "metadata": {},
   "outputs": [
    {
     "name": "stdout",
     "output_type": "stream",
     "text": [
      "Thank God, no exceptions were raised.\n"
     ]
    }
   ],
   "source": [
    "#26.Try ...except...else\n",
    "\n",
    "#我们在使用 try/except 语句的时候也可以加一个 else 子句，如果没有触发错误的话，这个子句就会被运行。\n",
    "\n",
    "try:\n",
    "    2*3\n",
    "except TypeError:\n",
    "    print(\"An exception was raised\")\n",
    "else:\n",
    "    print(\"Thank God, no exceptions were raised.\")\n",
    "\n",
    "#Thank God, no exceptions were raised."
   ]
  },
  {
   "cell_type": "code",
   "execution_count": 48,
   "id": "2da3a858",
   "metadata": {},
   "outputs": [
    {
     "data": {
      "text/plain": [
       "2"
      ]
     },
     "execution_count": 48,
     "metadata": {},
     "output_type": "execute_result"
    }
   ],
   "source": [
    "#27. 元素频率\n",
    "#下面的方法会根据元素频率取列表中最常见的元素。\n",
    "\n",
    "def most_frequent(list):\n",
    "    return max(set(list), key = list.count)\n",
    "\n",
    "\n",
    "list = [1,2,1,2,3,2,1,4,2]\n",
    "most_frequent(list)  "
   ]
  },
  {
   "cell_type": "code",
   "execution_count": 49,
   "id": "ae5a3e8e",
   "metadata": {},
   "outputs": [
    {
     "data": {
      "text/plain": [
       "True"
      ]
     },
     "execution_count": 49,
     "metadata": {},
     "output_type": "execute_result"
    }
   ],
   "source": [
    "#28. 回文序列\n",
    "#以下方法会检查给定的字符串是不是回文序列，它首先会把所有字母转化为小写，并移除非英文字母符号。最后，它会对比字符串与反向字符串是否相等，相等则表示为回文序列。\n",
    "\n",
    "def palindrome(string):\n",
    "    from re import sub\n",
    "    s = sub('[\\W_]', '', string.lower())\n",
    "    return s == s[::-1]\n",
    "\n",
    "\n",
    "palindrome('taco cat') # True\n"
   ]
  },
  {
   "cell_type": "code",
   "execution_count": 50,
   "id": "e8ed15fd",
   "metadata": {},
   "outputs": [
    {
     "name": "stdout",
     "output_type": "stream",
     "text": [
      "25\n"
     ]
    }
   ],
   "source": [
    "#29. 不使用 if-else 的计算子\n",
    "\n",
    "#这一段代码可以不使用条件语句就实现加减乘除、求幂操作，它通过字典这一数据结构实现：\n",
    "\n",
    "import operator\n",
    "action = {\n",
    "    \"+\": operator.add,\n",
    "    \"-\": operator.sub,\n",
    "    \"/\": operator.truediv,\n",
    "    \"*\": operator.mul,\n",
    "    \"**\": pow\n",
    "}\n",
    "print(action['-'](50, 25)) # 25"
   ]
  },
  {
   "cell_type": "code",
   "execution_count": 51,
   "id": "90b1cceb",
   "metadata": {},
   "outputs": [
    {
     "data": {
      "text/plain": [
       "[3, 2, 1]"
      ]
     },
     "execution_count": 51,
     "metadata": {},
     "output_type": "execute_result"
    }
   ],
   "source": [
    "#30.Shuffle\n",
    "#该算法会打乱列表元素的顺序，它主要会通过 Fisher-Yates 算法对新列表进行排序：\n",
    "\n",
    "from copy import deepcopy\n",
    "from random import randint\n",
    "\n",
    "def shuffle(lst):\n",
    "    temp_lst = deepcopy(lst)\n",
    "    m = len(temp_lst)\n",
    "    while (m):\n",
    "        m -= 1\n",
    "        i = randint(0, m)\n",
    "        temp_lst[m], temp_lst[i] = temp_lst[i], temp_lst[m]\n",
    "    return temp_lst\n",
    "\n",
    "\n",
    "foo = [1,2,3]\n",
    "shuffle(foo) # [2,3,1] , foo = [1,2,3]"
   ]
  },
  {
   "cell_type": "code",
   "execution_count": 52,
   "id": "17501bd8",
   "metadata": {},
   "outputs": [
    {
     "ename": "TypeError",
     "evalue": "isinstance() arg 2 must be a type, a tuple of types, or a union",
     "output_type": "error",
     "traceback": [
      "\u001b[1;31m---------------------------------------------------------------------------\u001b[0m",
      "\u001b[1;31mTypeError\u001b[0m                                 Traceback (most recent call last)",
      "Cell \u001b[1;32mIn[52], line 14\u001b[0m\n\u001b[0;32m     10\u001b[0m             ret\u001b[38;5;241m.\u001b[39mappend(i)\n\u001b[0;32m     11\u001b[0m     \u001b[38;5;28;01mreturn\u001b[39;00m ret\n\u001b[1;32m---> 14\u001b[0m \u001b[43mspread\u001b[49m\u001b[43m(\u001b[49m\u001b[43m[\u001b[49m\u001b[38;5;241;43m1\u001b[39;49m\u001b[43m,\u001b[49m\u001b[38;5;241;43m2\u001b[39;49m\u001b[43m,\u001b[49m\u001b[38;5;241;43m3\u001b[39;49m\u001b[43m,\u001b[49m\u001b[43m[\u001b[49m\u001b[38;5;241;43m4\u001b[39;49m\u001b[43m,\u001b[49m\u001b[38;5;241;43m5\u001b[39;49m\u001b[43m,\u001b[49m\u001b[38;5;241;43m6\u001b[39;49m\u001b[43m]\u001b[49m\u001b[43m,\u001b[49m\u001b[43m[\u001b[49m\u001b[38;5;241;43m7\u001b[39;49m\u001b[43m]\u001b[49m\u001b[43m,\u001b[49m\u001b[38;5;241;43m8\u001b[39;49m\u001b[43m,\u001b[49m\u001b[38;5;241;43m9\u001b[39;49m\u001b[43m]\u001b[49m\u001b[43m)\u001b[49m\n",
      "Cell \u001b[1;32mIn[52], line 7\u001b[0m, in \u001b[0;36mspread\u001b[1;34m(arg)\u001b[0m\n\u001b[0;32m      5\u001b[0m ret \u001b[38;5;241m=\u001b[39m []\n\u001b[0;32m      6\u001b[0m \u001b[38;5;28;01mfor\u001b[39;00m i \u001b[38;5;129;01min\u001b[39;00m arg:\n\u001b[1;32m----> 7\u001b[0m     \u001b[38;5;28;01mif\u001b[39;00m \u001b[38;5;28;43misinstance\u001b[39;49m\u001b[43m(\u001b[49m\u001b[43mi\u001b[49m\u001b[43m,\u001b[49m\u001b[43m \u001b[49m\u001b[38;5;28;43mlist\u001b[39;49m\u001b[43m)\u001b[49m:\n\u001b[0;32m      8\u001b[0m         ret\u001b[38;5;241m.\u001b[39mextend(i)\n\u001b[0;32m      9\u001b[0m     \u001b[38;5;28;01melse\u001b[39;00m:\n",
      "\u001b[1;31mTypeError\u001b[0m: isinstance() arg 2 must be a type, a tuple of types, or a union"
     ]
    }
   ],
   "source": [
    "#31. 展开列表\n",
    "#将列表内的所有元素，包括子列表，都展开成一个列表。\n",
    "\n",
    "def spread(arg):\n",
    "    ret = []\n",
    "    for i in arg:\n",
    "        if isinstance(i, list):\n",
    "            ret.extend(i)\n",
    "        else:\n",
    "            ret.append(i)\n",
    "    return ret\n",
    "\n",
    "\n",
    "spread([1,2,3,[4,5,6],[7],8,9]) # [1,2,3,4,5,6,7,8,9]"
   ]
  },
  {
   "cell_type": "code",
   "execution_count": 53,
   "id": "ad0f4571",
   "metadata": {},
   "outputs": [
    {
     "name": "stdout",
     "output_type": "stream",
     "text": [
      "3\n"
     ]
    }
   ],
   "source": [
    "#32. 字典默认值\n",
    "#通过 Key 取对应的 Value 值，可以通过以下方式设置默认值。如果 get() 方法没有设置默认值，那么如果遇到不存在的 Key，则会返回 None。\n",
    "\n",
    "d = {'a': 1, 'b': 2}\n",
    "\n",
    "print(d.get('c', 3)) # 3"
   ]
  },
  {
   "cell_type": "code",
   "execution_count": null,
   "id": "b359df85",
   "metadata": {},
   "outputs": [],
   "source": []
  }
 ],
 "metadata": {
  "kernelspec": {
   "display_name": "Python 3 (ipykernel)",
   "language": "python",
   "name": "python3"
  },
  "language_info": {
   "codemirror_mode": {
    "name": "ipython",
    "version": 3
   },
   "file_extension": ".py",
   "mimetype": "text/x-python",
   "name": "python",
   "nbconvert_exporter": "python",
   "pygments_lexer": "ipython3",
   "version": "3.10.9"
  }
 },
 "nbformat": 4,
 "nbformat_minor": 5
}
